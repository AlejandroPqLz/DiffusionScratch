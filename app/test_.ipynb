{
 "cells": [
  {
   "cell_type": "code",
   "execution_count": 2,
   "metadata": {},
   "outputs": [
    {
     "name": "stdout",
     "output_type": "stream",
     "text": [
      "Generating sample 1/1\n"
     ]
    },
    {
     "name": "stderr",
     "output_type": "stream",
     "text": [
      "Sampling sprite...:   0%|          | 0/999 [00:00<?, ?it/s]2024-06-22 18:10:07.286968: I external/local_xla/xla/stream_executor/cuda/cuda_dnn.cc:465] Loaded cuDNN version 8906\n",
      "Sampling sprite...:   8%|▊         | 79/999 [00:07<01:20, 11.47it/s]"
     ]
    }
   ],
   "source": [
    "from src_app.load_diffusion_model import ddpm_model\n",
    "\n",
    "# ddpm_model2 = get_model()\n",
    "\n",
    "ddpm_model.plot_samples(1)"
   ]
  },
  {
   "cell_type": "code",
   "execution_count": 5,
   "metadata": {},
   "outputs": [],
   "source": [
    "import streamlit as st\n",
    "from src_app.load_diffusion_model import ddpm_model\n",
    "\n",
    "# Streamlit app\n",
    "# =====================================================================\n",
    "st.set_page_config(layout=\"wide\", page_icon=\"🎨\", page_title=\"DDPM Pokémon Generator\")\n",
    "\n",
    "st.title(\"DDPM Pokémon Generator\")\n",
    "st.subheader(\n",
    "    \"Generate a Pokémon using Denoised Diffusion Probabilistic Models (DDPM) conditioned on the Pokémon type\"\n",
    ")\n",
    "\n",
    "pokemon_types = [\n",
    "    \"Bug\",\n",
    "    \"Dark\",\n",
    "    \"Dragon\",\n",
    "    \"Electric\",\n",
    "    \"Fairy\",\n",
    "    \"Fighting\",\n",
    "    \"Fire\",\n",
    "    \"Flying\",\n",
    "    \"Ghost\",\n",
    "    \"Grass\",\n",
    "    \"Ground\",\n",
    "    \"Ice\",\n",
    "    \"Normal\",\n",
    "    \"Poison\",\n",
    "    \"Psychic\",\n",
    "    \"Rock\",\n",
    "    \"Steel\",\n",
    "    \"Water\",\n",
    "]\n",
    "type_selection = st.selectbox(\"Select a Pokémon type\", pokemon_types)\n",
    "num_samples = st.number_input(\"Number of Pokémon to generate\", 1, 6, 1)\n",
    "\n",
    "if st.button(\"Generate Pokémon\"):\n",
    "    ddpm_model.plot_samples(type_selection, num_samples)\n",
    "    st.image(\"pokemon_samples.png\", width=300 * num_samples, use_column_width=False)"
   ]
  },
  {
   "cell_type": "code",
   "execution_count": 8,
   "metadata": {},
   "outputs": [
    {
     "data": {
      "text/plain": [
       "int"
      ]
     },
     "execution_count": 8,
     "metadata": {},
     "output_type": "execute_result"
    }
   ],
   "source": [
    "# type of variable\n",
    "type(num_samples)"
   ]
  },
  {
   "cell_type": "code",
   "execution_count": null,
   "metadata": {},
   "outputs": [],
   "source": []
  }
 ],
 "metadata": {
  "kernelspec": {
   "display_name": "Python 3",
   "language": "python",
   "name": "python3"
  },
  "language_info": {
   "codemirror_mode": {
    "name": "ipython",
    "version": 3
   },
   "file_extension": ".py",
   "mimetype": "text/x-python",
   "name": "python",
   "nbconvert_exporter": "python",
   "pygments_lexer": "ipython3",
   "version": "3.11.0"
  }
 },
 "nbformat": 4,
 "nbformat_minor": 2
}
