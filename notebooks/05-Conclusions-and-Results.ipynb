{
 "cells": [
  {
   "cell_type": "markdown",
   "metadata": {},
   "source": [
    "# **Pokémon Diffusion<a id=\"top\"></a>**\n",
    "\n",
    "> #### ``05-Conclusions-and-Results.ipynb``\n",
    "\n",
    "<i><small>**Alumno:** Alejandro Pequeño Lizcano<br>Última actualización: 11/03/2024</small></i></div>"
   ]
  },
  {
   "cell_type": "markdown",
   "metadata": {},
   "source": [
    "TODO: Add a description of the notebook\n",
    "\n",
    "<div style=\"text-align:center\">\n",
    "<img src='../figures/notebook_figures/pokemon_diffusion_portada.jpg'>\n",
    "</div>"
   ]
  },
  {
   "cell_type": "code",
   "execution_count": null,
   "metadata": {},
   "outputs": [],
   "source": [
    "# Plor samples of the trained model\n",
    "# =====================================================================\n",
    "plot_samples(model=model, num_samples=2, scheduler=scheduler)"
   ]
  },
  {
   "cell_type": "code",
   "execution_count": null,
   "metadata": {},
   "outputs": [],
   "source": [
    "# Plot samples from different models =====================================================================\n",
    "def plot_samples_comparison(\n",
    "    model_list: list(), num_samples: int = 2, scheduler: str = scheduler, T: int = T\n",
    ") -> None:\n",
    "    \"\"\"\n",
    "    Plots one sample for each pokemon type from each model defined.\n",
    "\n",
    "    :param model_list: The list of models to sample from.\n",
    "    :param num_samples: The number of samples to plot.\n",
    "    :param T: The number of timesteps to sample for.\n",
    "    :param scheduler: The type of schedule to use. Options are \"linear\", \"quadratic\" or \"cosine\".\n",
    "    :return: None\n",
    "    \"\"\"\n",
    "\n",
    "    fig, axs = plt.subplots(\n",
    "        len(model_list), num_samples, figsize=(num_samples * 2, len(model_list) * 2)\n",
    "    )  # Creating a row of subplots\n",
    "\n",
    "    for i, model in enumerate(model_list):\n",
    "        for j in trange(num_samples, desc=\"Sample Models\", leave=True):\n",
    "            start_noise = np.random.normal(size=(1, IMG_SIZE, IMG_SIZE, 3)).astype(\n",
    "                \"float32\"\n",
    "            )\n",
    "            y_label = generate_em().reshape(1, 18)\n",
    "            sample = sampling(model, start_noise, y_label, T, scheduler)\n",
    "            sample = (sample + 1.0) / 2.0\n",
    "            axs[i, j].imshow(sample[0])\n",
    "            axs[i, j].title.set_text(onehot_to_string(y_label[0]))\n",
    "            axs[i, j].axis(\"off\")\n",
    "\n",
    "    plt.show()"
   ]
  },
  {
   "cell_type": "code",
   "execution_count": null,
   "metadata": {},
   "outputs": [],
   "source": [
    "# Load the models\n",
    "# =====================================================================\n",
    "trained_model = tf.keras.models.load_model(f\"../../models/models/{model_name}.h5\")\n",
    "trained_model2 = tf.keras.models.load_model(f\"../../models/models/diffusion_prueba1.h5\")\n",
    "\n",
    "diffusion_models = [trained_model, trained_model2]\n",
    "\n",
    "# Plot all the models\n",
    "# =====================================================================\n",
    "plot_samples_comparison(model_list=diffusion_models, num_samples=4)"
   ]
  }
 ],
 "metadata": {
  "kernelspec": {
   "display_name": "Python 3",
   "language": "python",
   "name": "python3"
  },
  "language_info": {
   "name": "python",
   "version": "3.11.3"
  }
 },
 "nbformat": 4,
 "nbformat_minor": 2
}
