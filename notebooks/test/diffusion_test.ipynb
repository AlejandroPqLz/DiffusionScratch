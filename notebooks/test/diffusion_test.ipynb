{
 "cells": [
  {
   "cell_type": "markdown",
   "metadata": {},
   "source": [
    "# **Pokemón Diffusion Test<a id=\"top\"></a>**\n",
    "\n",
    "<i><small>**Alumno:** Alejandro Pequeño Lizcano</small></i></div>\n",
    "\n",
    "---\n",
    "\n",
    "**Objetivo:** \n",
    "Este notebook tiene como objetivo hacer test con el modelo y los algoritmos de difusión de Pokemón para todo el dataset.\n",
    "\n",
    "- [0. Imports](#-0.-Imports)\n",
    "\n",
    "- [1. Dataset](#-1.-Dataset)\n",
    "    - [1.1. Predataset](##-1.1.-Predataset)\n",
    "    - [1.2. Dataset](##-1.2.-Dataset)\n",
    "\n",
    "- [2. Modelo de Difusión](#-2.-Modelo-de-Difusión)\n",
    "    - [2.1. Forward Diffusion](##-2.1.-Forward-Diffusion)\n",
    "    - [2.2. Reverse Diffusion](##-2.2.-Reverse-Diffusion)\n",
    "    - [2.3. Train Diffusion Model](##-2.3.-Train-Diffusion-Model)\n",
    "\n",
    "---"
   ]
  },
  {
   "cell_type": "code",
   "execution_count": null,
   "metadata": {
    "vscode": {
     "languageId": "plaintext"
    }
   },
   "outputs": [],
   "source": []
  }
 ],
 "metadata": {
  "language_info": {
   "name": "python"
  }
 },
 "nbformat": 4,
 "nbformat_minor": 2
}
