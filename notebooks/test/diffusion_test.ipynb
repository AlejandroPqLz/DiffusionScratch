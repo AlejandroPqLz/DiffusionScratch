{
 "cells": [
  {
   "cell_type": "markdown",
   "metadata": {},
   "source": [
    "# **Pokémon Diffusion<a id=\"top\"></a>**\n",
    "\n",
    "> #### ``04-Training-Diffusion-Model.ipynb``\n",
    "\n",
    "<i><small>**Alumno:** Alejandro Pequeño Lizcano<br>Última actualización: 25/03/2024</small></i></div>"
   ]
  },
  {
   "cell_type": "markdown",
   "metadata": {},
   "source": [
    "# 0. Imports"
   ]
  },
  {
   "cell_type": "code",
   "execution_count": 1,
   "metadata": {},
   "outputs": [],
   "source": [
    "# Import necessary libraries\n",
    "# =====================================================================\n",
    "import os\n",
    "\n",
    "os.environ[\"TF_CPP_MIN_LOG_LEVEL\"] = \"2\"\n",
    "\n",
    "import configparser\n",
    "import tensorflow as tf\n",
    "\n",
    "# Import src code\n",
    "from src.data.create_dataset import *\n",
    "from src.model.build_unet import build_unet\n",
    "from src.utils.utils import PROJECT_DIR, DATA_PATH\n",
    "from src.visualization import visualize\n",
    "from src.model.diffusion_model2 import DiffusionModel"
   ]
  },
  {
   "cell_type": "code",
   "execution_count": 2,
   "metadata": {},
   "outputs": [
    {
     "name": "stdout",
     "output_type": "stream",
     "text": [
      "GPUs Available:  [PhysicalDevice(name='/physical_device:GPU:0', device_type='GPU')]\n"
     ]
    }
   ],
   "source": [
    "# Use the GPU\n",
    "# =====================================================================\n",
    "gpus_list = tf.config.list_physical_devices(\"GPU\")\n",
    "gpu = gpus_list[0]\n",
    "tf.config.experimental.set_memory_growth(gpu, True)\n",
    "\n",
    "print(\"GPUs Available: \", gpus_list)"
   ]
  },
  {
   "cell_type": "code",
   "execution_count": 3,
   "metadata": {},
   "outputs": [],
   "source": [
    "# Set config file\n",
    "# =====================================================================\n",
    "config = configparser.ConfigParser()\n",
    "config.read(PROJECT_DIR / \"config.ini\")\n",
    "\n",
    "# Hyperparameters\n",
    "config_hp = config[\"hyperparameters\"]\n",
    "\n",
    "IMG_SIZE = 16\n",
    "NUM_CLASSES = int(config_hp[\"num_classes\"])\n",
    "BATCH_SIZE = 32\n",
    "EPOCHS = int(config_hp[\"epochs\"])\n",
    "T = 100\n",
    "BETA_START = float(config_hp[\"beta_start\"])\n",
    "BETA_END = float(config_hp[\"beta_end\"])\n",
    "s = float(config_hp[\"s\"])  # scale factor for the variance curve\n",
    "SCHEDULER = config_hp[\"scheduler\"]\n",
    "\n",
    "optimizer = tf.keras.optimizers.Adam(learning_rate=0.0001)  # TODO: ADD TO CONFIG FILE\n",
    "loss_fn = tf.keras.losses.MeanSquaredError()"
   ]
  },
  {
   "cell_type": "markdown",
   "metadata": {},
   "source": [
    "# 1. Dataset"
   ]
  },
  {
   "cell_type": "code",
   "execution_count": 4,
   "metadata": {},
   "outputs": [],
   "source": [
    "# load df and data_dict\n",
    "# =====================================================================\n",
    "path = f\"{DATA_PATH}/processed/pokedex_cleaned.csv\"\n",
    "df = pd.read_csv(path)\n",
    "\n",
    "with open(f\"{DATA_PATH}/interim/pokemon_dict_dataset.json\", \"r\") as f:\n",
    "    data_dict = json.load(f)"
   ]
  },
  {
   "cell_type": "code",
   "execution_count": 5,
   "metadata": {},
   "outputs": [
    {
     "name": "stdout",
     "output_type": "stream",
     "text": [
      "- The shape of the dataset is: (32, 16, 16, 3) => batch_size: 32, height: 16, width: 16, channels: 3\n",
      "- The shape of the dataset labels is: (32, 18) => batch_size: 32, number of labels: 18\n"
     ]
    },
    {
     "data": {
      "image/png": "[encoded data removed]",
      "text/plain": [
       "<Figure size 2000x300 with 6 Axes>"
      ]
     },
     "metadata": {},
     "output_type": "display_data"
    }
   ],
   "source": [
    "# dataset_path = f\"{DATA_PATH}/processed/pokemon_tf_dataset\"\n",
    "# poke_dataset = tf.data.Dataset.load(path=dataset_path, compression=\"GZIP\")\n",
    "\n",
    "poke_dataset = dataset_tf(\n",
    "    df=df,\n",
    "    dict_dataset=data_dict,\n",
    "    img_size=IMG_SIZE,\n",
    "    batch_size=BATCH_SIZE,\n",
    ")\n",
    "\n",
    "# Check the dataset\n",
    "# =====================================================================\n",
    "for img, label in poke_dataset.take(1):\n",
    "    print(\n",
    "        f\"- The shape of the dataset is: {img.shape} => batch_size: {img.shape[0]}, height: {img.shape[1]}, width: {img.shape[2]}, channels: {img.shape[3]}\"\n",
    "    )\n",
    "    print(\n",
    "        f\"- The shape of the dataset labels is: {label.shape} => batch_size: {label.shape[0]}, number of labels: {label.shape[1]}\"\n",
    "    )\n",
    "\n",
    "# Visualize the dataset\n",
    "visualize.plot_images_batch(dataset_tf=poke_dataset, n=6)"
   ]
  },
  {
   "cell_type": "markdown",
   "metadata": {},
   "source": [
    "# 2. Model"
   ]
  },
  {
   "cell_type": "code",
   "execution_count": 6,
   "metadata": {},
   "outputs": [],
   "source": [
    "# Create the model\n",
    "# =====================================================================\n",
    "u_net = build_unet(IMG_SIZE, NUM_CLASSES)\n",
    "loss_fn = tf.keras.losses.MeanSquaredError()\n",
    "optimizer = tf.keras.optimizers.Adam(learning_rate=0.0001)\n",
    "\n",
    "model = DiffusionModel(\n",
    "    u_net, IMG_SIZE, NUM_CLASSES, T, BETA_START, BETA_END, s, SCHEDULER\n",
    ")\n",
    "\n",
    "# Compile the model\n",
    "# =====================================================================\n",
    "model.compile(loss=loss_fn, optimizer=optimizer)"
   ]
  },
  {
   "cell_type": "markdown",
   "metadata": {},
   "source": [
    "## 2.1. Training"
   ]
  },
  {
   "cell_type": "code",
   "execution_count": 7,
   "metadata": {},
   "outputs": [
    {
     "name": "stdout",
     "output_type": "stream",
     "text": [
      "Epoch 1/100\n"
     ]
    },
    {
     "name": "stderr",
     "output_type": "stream",
     "text": [
      "WARNING: All log messages before absl::InitializeLog() is called are written to STDERR\n",
      "I0000 00:00:1711811869.516125   27813 service.cc:145] XLA service 0x7f0720003720 initialized for platform CUDA (this does not guarantee that XLA will be used). Devices:\n",
      "I0000 00:00:1711811869.516161   27813 service.cc:153]   StreamExecutor device (0): NVIDIA GeForce RTX 3060 Laptop GPU, Compute Capability 8.6\n"
     ]
    },
    {
     "ename": "",
     "evalue": "",
     "output_type": "error",
     "traceback": [
      "\u001b[1;31mThe Kernel crashed while executing code in the current cell or a previous cell. \n",
      "\u001b[1;31mPlease review the code in the cell(s) to identify a possible cause of the failure. \n",
      "\u001b[1;31mClick <a href='https://aka.ms/vscodeJupyterKernelCrash'>here</a> for more info. \n",
      "\u001b[1;31mView Jupyter <a href='command:jupyter.viewOutput'>log</a> for further details."
     ]
    }
   ],
   "source": [
    "model.fit(poke_dataset, epochs=EPOCHS)\n",
    "# model.fit(poke_dataset, epochs=EPOCHS, callbacks=[CustomCallback(model)]) # TODO INVESTIGAR CALLBACKS"
   ]
  },
  {
   "cell_type": "code",
   "execution_count": null,
   "metadata": {},
   "outputs": [],
   "source": [
    "model.plot_samples(2)"
   ]
  },
  {
   "cell_type": "code",
   "execution_count": null,
   "metadata": {},
   "outputs": [],
   "source": [
    "# import gradio as gr\n",
    "\n",
    "# poke_diffusion = gr.Interface(\n",
    "#     fn=model.plot_samples,\n",
    "#     inputs=gr.Slider(minimum=1, maximum=10, label=\"Number of samples\"),\n",
    "#     outputs=gr.Image(),\n",
    "# )\n",
    "\n",
    "# poke_diffusion.launch(share=True)"
   ]
  },
  {
   "cell_type": "markdown",
   "metadata": {},
   "source": [
    "## 2.2. Save Model\n",
    "\n",
    "Finalmente, se guardan los resultados finales del modelo de difusión en un fichero `.h5` para su posterior uso y visualización. TODO: MIRAR OTROS FORMATOS DE GUARDADO\n",
    "\n",
    "TODO: INVESTIGAR OTROS FORMATOS DE GUARDADO (HDF5, PICKLE, ETC.)"
   ]
  },
  {
   "cell_type": "code",
   "execution_count": null,
   "metadata": {},
   "outputs": [],
   "source": [
    "# Save the model function\n",
    "# =====================================================================\n",
    "def save_model(model: tf.keras.models.Model, model_name: str) -> None:\n",
    "    \"\"\"Saves the model\n",
    "\n",
    "    :param model: The model to save\n",
    "    :param model_name: The name of the model\n",
    "    :return: None\n",
    "    \"\"\"\n",
    "\n",
    "    # Save the model\n",
    "    model_dir = \"./diffusion_models/models/\"\n",
    "    os.makedirs(model_dir, exist_ok=True)\n",
    "    if not os.path.exists(os.path.join(model_dir, f\"{model_name}.h5\")):\n",
    "        model.save(os.path.join(model_dir, f\"{model_name}.h5\"))\n",
    "        print(f\"Model {model_name}, saved successfully!\")\n",
    "    else:\n",
    "        print(f\"Model {model_name}, already exists!\")"
   ]
  },
  {
   "cell_type": "code",
   "execution_count": null,
   "metadata": {},
   "outputs": [],
   "source": [
    "# Save the model\n",
    "model_name = f\"diffusion_{IMG_SIZE}_{BATCH_SIZE}_{EPOCHS}_{T}_{scheduler}_ddpm\"\n",
    "\n",
    "save_model(model, model_name)"
   ]
  },
  {
   "cell_type": "markdown",
   "metadata": {},
   "source": [
    "[BACK TO TOP](#top)"
   ]
  }
 ],
 "metadata": {
  "kernelspec": {
   "display_name": "diffusion_env",
   "language": "python",
   "name": "python3"
  },
  "language_info": {
   "codemirror_mode": {
    "name": "ipython",
    "version": 3
   },
   "file_extension": ".py",
   "mimetype": "text/x-python",
   "name": "python",
   "nbconvert_exporter": "python",
   "pygments_lexer": "ipython3",
   "version": "3.12.1"
  }
 },
 "nbformat": 4,
 "nbformat_minor": 2
}
