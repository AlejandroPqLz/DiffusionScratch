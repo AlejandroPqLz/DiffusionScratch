{
 "cells": [
  {
   "cell_type": "code",
   "execution_count": 1,
   "metadata": {},
   "outputs": [],
   "source": [
    "# Import necessary libraries\n",
    "# =====================================================================\n",
    "import os\n",
    "\n",
    "# Configurar el nivel de logging para mostrar solo errores\n",
    "os.environ[\"TF_CPP_MIN_LOG_LEVEL\"] = \"2\"\n",
    "\n",
    "import configparser\n",
    "import tensorflow as tf\n",
    "import pandas as pd\n",
    "\n",
    "# Import src code\n",
    "from src.model.build_unet import *\n",
    "from src.utils.utils import PROJECT_DIR, DATA_PATH\n",
    "from src.visualization import visualize\n",
    "from src.model.overfitting_test import *\n",
    "from src.data.create_dataset import dataset_tf\n",
    "from src.data.path_loader import PathLoader"
   ]
  },
  {
   "cell_type": "code",
   "execution_count": 2,
   "metadata": {},
   "outputs": [
    {
     "name": "stdout",
     "output_type": "stream",
     "text": [
      "GPUs Available:  [PhysicalDevice(name='/physical_device:GPU:0', device_type='GPU')]\n"
     ]
    }
   ],
   "source": [
    "# Use the GPU\n",
    "# =====================================================================\n",
    "gpus_list = tf.config.list_physical_devices(\"GPU\")\n",
    "gpu = gpus_list[0]\n",
    "tf.config.experimental.set_memory_growth(gpu, True)\n",
    "\n",
    "print(\"GPUs Available: \", gpus_list)"
   ]
  },
  {
   "cell_type": "code",
   "execution_count": 3,
   "metadata": {},
   "outputs": [],
   "source": [
    "# Set config file\n",
    "# =====================================================================\n",
    "config = configparser.ConfigParser()\n",
    "config.read(PROJECT_DIR / \"config.ini\")\n",
    "\n",
    "# Hyperparameters\n",
    "config_hp = config[\"hyperparameters\"]\n",
    "\n",
    "IMG_SIZE = 32\n",
    "NUM_CLASSES = int(config_hp[\"num_classes\"])\n",
    "BATCH_SIZE = 32\n",
    "EPOCHS = 100\n",
    "T = int(config_hp[\"T\"])  # number of diffusion steps\n",
    "BETA_START = float(config_hp[\"beta_start\"])\n",
    "BETA_END = float(config_hp[\"beta_end\"])\n",
    "s = float(config_hp[\"s\"])  # scale factor for the variance curve\n",
    "SCHEDULER = config_hp[\"scheduler\"]\n",
    "\n",
    "optimizer = tf.keras.optimizers.Adam(learning_rate=0.0001)  # TODO: ADD TO CONFIG FILE\n",
    "loss_fn = tf.keras.losses.MeanSquaredError()"
   ]
  },
  {
   "cell_type": "markdown",
   "metadata": {},
   "source": [
    "# 1. Dataset"
   ]
  },
  {
   "cell_type": "code",
   "execution_count": 4,
   "metadata": {},
   "outputs": [
    {
     "data": {
      "text/html": [
       "<div>\n",
       "<style scoped>\n",
       "    .dataframe tbody tr th:only-of-type {\n",
       "        vertical-align: middle;\n",
       "    }\n",
       "\n",
       "    .dataframe tbody tr th {\n",
       "        vertical-align: top;\n",
       "    }\n",
       "\n",
       "    .dataframe thead th {\n",
       "        text-align: right;\n",
       "    }\n",
       "</style>\n",
       "<table border=\"1\" class=\"dataframe\">\n",
       "  <thead>\n",
       "    <tr style=\"text-align: right;\">\n",
       "      <th></th>\n",
       "      <th>name</th>\n",
       "      <th>pokedex_id</th>\n",
       "      <th>type1</th>\n",
       "      <th>image_fn</th>\n",
       "    </tr>\n",
       "  </thead>\n",
       "  <tbody>\n",
       "    <tr>\n",
       "      <th>0</th>\n",
       "      <td>Bulbasaur</td>\n",
       "      <td>1</td>\n",
       "      <td>Grass</td>\n",
       "      <td>['1']</td>\n",
       "    </tr>\n",
       "    <tr>\n",
       "      <th>1</th>\n",
       "      <td>Ivysaur</td>\n",
       "      <td>2</td>\n",
       "      <td>Grass</td>\n",
       "      <td>['2']</td>\n",
       "    </tr>\n",
       "    <tr>\n",
       "      <th>2</th>\n",
       "      <td>Venusaur</td>\n",
       "      <td>3</td>\n",
       "      <td>Grass</td>\n",
       "      <td>['3']</td>\n",
       "    </tr>\n",
       "    <tr>\n",
       "      <th>3</th>\n",
       "      <td>Venusaur Gmax</td>\n",
       "      <td>3</td>\n",
       "      <td>Grass</td>\n",
       "      <td>['3_g']</td>\n",
       "    </tr>\n",
       "    <tr>\n",
       "      <th>4</th>\n",
       "      <td>Venusaur Mega</td>\n",
       "      <td>3</td>\n",
       "      <td>Grass</td>\n",
       "      <td>['3_2']</td>\n",
       "    </tr>\n",
       "    <tr>\n",
       "      <th>...</th>\n",
       "      <td>...</td>\n",
       "      <td>...</td>\n",
       "      <td>...</td>\n",
       "      <td>...</td>\n",
       "    </tr>\n",
       "    <tr>\n",
       "      <th>1113</th>\n",
       "      <td>Glastrier</td>\n",
       "      <td>896</td>\n",
       "      <td>Ice</td>\n",
       "      <td>['896']</td>\n",
       "    </tr>\n",
       "    <tr>\n",
       "      <th>1114</th>\n",
       "      <td>Spectrier</td>\n",
       "      <td>897</td>\n",
       "      <td>Ghost</td>\n",
       "      <td>['897']</td>\n",
       "    </tr>\n",
       "    <tr>\n",
       "      <th>1115</th>\n",
       "      <td>Calyrex</td>\n",
       "      <td>898</td>\n",
       "      <td>Psychic</td>\n",
       "      <td>['898_1']</td>\n",
       "    </tr>\n",
       "    <tr>\n",
       "      <th>1116</th>\n",
       "      <td>Calyrex Ice Rider</td>\n",
       "      <td>898</td>\n",
       "      <td>Psychic</td>\n",
       "      <td>['898_2']</td>\n",
       "    </tr>\n",
       "    <tr>\n",
       "      <th>1117</th>\n",
       "      <td>Calyrex Shadow Rider</td>\n",
       "      <td>898</td>\n",
       "      <td>Psychic</td>\n",
       "      <td>['898_3']</td>\n",
       "    </tr>\n",
       "  </tbody>\n",
       "</table>\n",
       "<p>1118 rows × 4 columns</p>\n",
       "</div>"
      ],
      "text/plain": [
       "                      name  pokedex_id    type1   image_fn\n",
       "0                Bulbasaur           1    Grass      ['1']\n",
       "1                  Ivysaur           2    Grass      ['2']\n",
       "2                 Venusaur           3    Grass      ['3']\n",
       "3            Venusaur Gmax           3    Grass    ['3_g']\n",
       "4            Venusaur Mega           3    Grass    ['3_2']\n",
       "...                    ...         ...      ...        ...\n",
       "1113             Glastrier         896      Ice    ['896']\n",
       "1114             Spectrier         897    Ghost    ['897']\n",
       "1115               Calyrex         898  Psychic  ['898_1']\n",
       "1116     Calyrex Ice Rider         898  Psychic  ['898_2']\n",
       "1117  Calyrex Shadow Rider         898  Psychic  ['898_3']\n",
       "\n",
       "[1118 rows x 4 columns]"
      ]
     },
     "execution_count": 4,
     "metadata": {},
     "output_type": "execute_result"
    }
   ],
   "source": [
    "# Load csv data\n",
    "# =====================================================================\n",
    "path = f\"{DATA_PATH}/processed/pokedex_cleaned.csv\"\n",
    "df = pd.read_csv(path)\n",
    "\n",
    "# Show the df\n",
    "df"
   ]
  },
  {
   "cell_type": "code",
   "execution_count": 5,
   "metadata": {},
   "outputs": [
    {
     "name": "stdout",
     "output_type": "stream",
     "text": [
      "- The shape of the dataset is: (32, 32, 32, 3) => batch_size: 32, height: 32, width: 32, channels: 3\n",
      "- The shape of the dataset labels is: (32, 18) => batch_size: 32, number of labels: 18\n"
     ]
    },
    {
     "data": {
      "image/png": "[encoded data removed]",
      "text/plain": [
       "<Figure size 2000x300 with 6 Axes>"
      ]
     },
     "metadata": {},
     "output_type": "display_data"
    }
   ],
   "source": [
    "dataset_path = f\"{DATA_PATH}/processed/pokemon_tf_dataset\"\n",
    "# poke_dataset = tf.data.Dataset.load(path=dataset_path, compression=\"GZIP\")\n",
    "\n",
    "poke_dataset = dataset_tf(\n",
    "    image_paths=PathLoader.get_image_paths(f\"{DATA_PATH}/interim/image_paths.json\"),\n",
    "    df=df,\n",
    "    img_size=IMG_SIZE,\n",
    "    batch_size=BATCH_SIZE,\n",
    "    save=False,\n",
    "    save_path=dataset_path,\n",
    ")\n",
    "\n",
    "# Check the dataset\n",
    "# =====================================================================\n",
    "for img, label in poke_dataset.take(1):\n",
    "    print(\n",
    "        f\"- The shape of the dataset is: {img.shape} => batch_size: {img.shape[0]}, height: {img.shape[1]}, width: {img.shape[2]}, channels: {img.shape[3]}\"\n",
    "    )\n",
    "    print(\n",
    "        f\"- The shape of the dataset labels is: {label.shape} => batch_size: {label.shape[0]}, number of labels: {label.shape[1]}\"\n",
    "    )\n",
    "\n",
    "# Visualize the dataset\n",
    "visualize.plot_images_batch(dataset_tf=poke_dataset, n=6)"
   ]
  },
  {
   "cell_type": "markdown",
   "metadata": {},
   "source": [
    "# 2. Model"
   ]
  },
  {
   "cell_type": "code",
   "execution_count": 6,
   "metadata": {},
   "outputs": [],
   "source": [
    "# Create the model\n",
    "# =====================================================================\n",
    "u_net = build_unet(IMG_SIZE, NUM_CLASSES)\n",
    "loss_fn = tf.keras.losses.MeanSquaredError()\n",
    "optimizer = tf.keras.optimizers.Adam(learning_rate=0.0001)\n",
    "\n",
    "model = DiffusionModel(\n",
    "    u_net, IMG_SIZE, NUM_CLASSES, T, BETA_START, BETA_END, s, \"linear\"\n",
    ")\n",
    "\n",
    "# Compile the model\n",
    "# =====================================================================\n",
    "model.compile(loss=loss_fn, optimizer=optimizer)"
   ]
  },
  {
   "cell_type": "markdown",
   "metadata": {},
   "source": [
    "## 2.1. Training"
   ]
  },
  {
   "cell_type": "code",
   "execution_count": 7,
   "metadata": {},
   "outputs": [
    {
     "name": "stdout",
     "output_type": "stream",
     "text": [
      "Epoch 1/100\n"
     ]
    },
    {
     "name": "stderr",
     "output_type": "stream",
     "text": [
      "WARNING: All log messages before absl::InitializeLog() is called are written to STDERR\n",
      "I0000 00:00:1715116169.042275   71235 service.cc:145] XLA service 0x7d6298005470 initialized for platform CUDA (this does not guarantee that XLA will be used). Devices:\n",
      "I0000 00:00:1715116169.042297   71235 service.cc:153]   StreamExecutor device (0): NVIDIA GeForce RTX 3060 Laptop GPU, Compute Capability 8.6\n",
      "W0000 00:00:1715116169.591813   71235 random_ops.cc:105] Warning: Using tf.random.uniform with XLA compilation will ignore seeds; consider using tf.random.stateless_uniform instead if reproducible behavior is desired. random_uniform\n",
      "WARNING: All log messages before absl::InitializeLog() is called are written to STDERR\n",
      "I0000 00:00:1715116170.653459   71345 asm_compiler.cc:369] ptxas warning : Registers are spilled to local memory in function 'triton_gemm_dot_3260', 8 bytes spill stores, 8 bytes spill loads\n",
      "\n",
      "I0000 00:00:1715116171.095279   71342 asm_compiler.cc:369] ptxas warning : Registers are spilled to local memory in function 'triton_gemm_dot_7015', 4 bytes spill stores, 4 bytes spill loads\n",
      "\n",
      "I0000 00:00:1715116171.216629   71347 asm_compiler.cc:369] ptxas warning : Registers are spilled to local memory in function 'triton_gemm_dot_3260', 192 bytes spill stores, 192 bytes spill loads\n",
      "\n",
      "I0000 00:00:1715116171.226217   71338 asm_compiler.cc:369] ptxas warning : Registers are spilled to local memory in function 'triton_gemm_dot_7015', 40 bytes spill stores, 40 bytes spill loads\n",
      "\n",
      "I0000 00:00:1715116171.234138   71341 asm_compiler.cc:369] ptxas warning : Registers are spilled to local memory in function 'triton_gemm_dot_7015', 32 bytes spill stores, 32 bytes spill loads\n",
      "\n",
      "I0000 00:00:1715116180.001973   71235 asm_compiler.cc:369] ptxas warning : Registers are spilled to local memory in function 'loop_add_subtract_fusion_38', 16 bytes spill stores, 16 bytes spill loads\n",
      "\n",
      "I0000 00:00:1715116180.013714   71235 device_compiler.h:188] Compiled cluster using XLA!  This line is logged at most once for the lifetime of the process.\n"
     ]
    },
    {
     "ename": "ResourceExhaustedError",
     "evalue": "Graph execution error:\n\nDetected at node StatefulPartitionedCall defined at (most recent call last):\n  File \"<frozen runpy>\", line 198, in _run_module_as_main\n\n  File \"<frozen runpy>\", line 88, in _run_code\n\n  File \"/home/pqlza/.local/lib/python3.11/site-packages/ipykernel_launcher.py\", line 18, in <module>\n\n  File \"/home/pqlza/.local/lib/python3.11/site-packages/traitlets/config/application.py\", line 1075, in launch_instance\n\n  File \"/home/pqlza/.local/lib/python3.11/site-packages/ipykernel/kernelapp.py\", line 739, in start\n\n  File \"/home/pqlza/.local/lib/python3.11/site-packages/tornado/platform/asyncio.py\", line 205, in start\n\n  File \"/usr/lib/python3.11/asyncio/base_events.py\", line 604, in run_forever\n\n  File \"/usr/lib/python3.11/asyncio/base_events.py\", line 1909, in _run_once\n\n  File \"/usr/lib/python3.11/asyncio/events.py\", line 80, in _run\n\n  File \"/home/pqlza/.local/lib/python3.11/site-packages/ipykernel/kernelbase.py\", line 545, in dispatch_queue\n\n  File \"/home/pqlza/.local/lib/python3.11/site-packages/ipykernel/kernelbase.py\", line 534, in process_one\n\n  File \"/home/pqlza/.local/lib/python3.11/site-packages/ipykernel/kernelbase.py\", line 437, in dispatch_shell\n\n  File \"/home/pqlza/.local/lib/python3.11/site-packages/ipykernel/ipkernel.py\", line 362, in execute_request\n\n  File \"/home/pqlza/.local/lib/python3.11/site-packages/ipykernel/kernelbase.py\", line 778, in execute_request\n\n  File \"/home/pqlza/.local/lib/python3.11/site-packages/ipykernel/ipkernel.py\", line 449, in do_execute\n\n  File \"/home/pqlza/.local/lib/python3.11/site-packages/ipykernel/zmqshell.py\", line 549, in run_cell\n\n  File \"/home/pqlza/.local/lib/python3.11/site-packages/IPython/core/interactiveshell.py\", line 3075, in run_cell\n\n  File \"/home/pqlza/.local/lib/python3.11/site-packages/IPython/core/interactiveshell.py\", line 3130, in _run_cell\n\n  File \"/home/pqlza/.local/lib/python3.11/site-packages/IPython/core/async_helpers.py\", line 129, in _pseudo_sync_runner\n\n  File \"/home/pqlza/.local/lib/python3.11/site-packages/IPython/core/interactiveshell.py\", line 3334, in run_cell_async\n\n  File \"/home/pqlza/.local/lib/python3.11/site-packages/IPython/core/interactiveshell.py\", line 3517, in run_ast_nodes\n\n  File \"/home/pqlza/.local/lib/python3.11/site-packages/IPython/core/interactiveshell.py\", line 3577, in run_code\n\n  File \"/tmp/ipykernel_71121/4058675635.py\", line 2, in <module>\n\n  File \"/home/pqlza/.local/lib/python3.11/site-packages/keras/src/utils/traceback_utils.py\", line 117, in error_handler\n\n  File \"/home/pqlza/.local/lib/python3.11/site-packages/keras/src/backend/tensorflow/trainer.py\", line 325, in fit\n\n  File \"/home/pqlza/.local/lib/python3.11/site-packages/keras/src/backend/tensorflow/trainer.py\", line 118, in one_step_on_iterator\n\nOut of memory while trying to allocate 561187768 bytes.\nBufferAssignment OOM Debugging.\nBufferAssignment stats:\n             parameter allocation:  920.49MiB\n              constant allocation:    11.9KiB\n        maybe_live_out allocation:  920.11MiB\n     preallocated temp allocation:  535.19MiB\n  preallocated temp fragmentation:    1.12MiB (0.21%)\n                 total allocation:    1.42GiB\n              total fragmentation:  165.05MiB (11.34%)\nPeak buffers:\n\tBuffer 1:\n\t\tSize: 72.00MiB\n\t\tOperator: op_name=\"XLA_Args\"\n\t\tXLA Label: fusion\n\t\tShape: f32[2048,1024,3,3]\n\t\t==========================\n\n\tBuffer 2:\n\t\tSize: 72.00MiB\n\t\tOperator: op_name=\"XLA_Args\"\n\t\tXLA Label: fusion\n\t\tShape: f32[2048,1024,3,3]\n\t\t==========================\n\n\tBuffer 3:\n\t\tSize: 72.00MiB\n\t\tOperator: op_name=\"XLA_Args\"\n\t\tEntry Parameter Subshape: f32[3,3,2048,1024]\n\t\t==========================\n\n\tBuffer 4:\n\t\tSize: 72.00MiB\n\t\tOperator: op_name=\"XLA_Args\"\n\t\tEntry Parameter Subshape: f32[3,3,2048,1024]\n\t\t==========================\n\n\tBuffer 5:\n\t\tSize: 72.00MiB\n\t\tOperator: op_name=\"XLA_Args\"\n\t\tEntry Parameter Subshape: f32[3,3,2048,1024]\n\t\t==========================\n\n\tBuffer 6:\n\t\tSize: 72.00MiB\n\t\tOperator: op_name=\"XLA_Args\"\n\t\tEntry Parameter Subshape: f32[3,3,2048,1024]\n\t\t==========================\n\n\tBuffer 7:\n\t\tSize: 72.00MiB\n\t\tOperator: op_name=\"XLA_Args\"\n\t\tEntry Parameter Subshape: f32[3,3,2048,1024]\n\t\t==========================\n\n\tBuffer 8:\n\t\tSize: 72.00MiB\n\t\tOperator: op_name=\"XLA_Args\"\n\t\tEntry Parameter Subshape: f32[3,3,2048,1024]\n\t\t==========================\n\n\tBuffer 9:\n\t\tSize: 27.00MiB\n\t\tOperator: op_name=\"XLA_Args\"\n\t\tXLA Label: fusion\n\t\tShape: f32[512,1536,3,3]\n\t\t==========================\n\n\tBuffer 10:\n\t\tSize: 27.00MiB\n\t\tOperator: op_name=\"XLA_Args\"\n\t\tXLA Label: fusion\n\t\tShape: f32[512,1536,3,3]\n\t\t==========================\n\n\tBuffer 11:\n\t\tSize: 27.00MiB\n\t\tOperator: op_name=\"XLA_Retvals\"\n\t\tXLA Label: fusion\n\t\tShape: f32[3,3,1536,512]\n\t\t==========================\n\n\tBuffer 12:\n\t\tSize: 27.00MiB\n\t\tOperator: op_name=\"XLA_Retvals\"\n\t\tXLA Label: fusion\n\t\tShape: f32[3,3,1536,512]\n\t\t==========================\n\n\tBuffer 13:\n\t\tSize: 27.00MiB\n\t\tOperator: op_name=\"XLA_Retvals\"\n\t\tXLA Label: fusion\n\t\tShape: f32[3,3,1536,512]\n\t\t==========================\n\n\tBuffer 14:\n\t\tSize: 27.00MiB\n\t\tOperator: op_name=\"XLA_Retvals\"\n\t\tXLA Label: fusion\n\t\tShape: f32[3,3,1536,512]\n\t\t==========================\n\n\tBuffer 15:\n\t\tSize: 27.00MiB\n\t\tOperator: op_name=\"XLA_Args\"\n\t\tEntry Parameter Subshape: f32[3,3,1536,512]\n\t\t==========================\n\n\n\t [[{{node StatefulPartitionedCall}}]]\nHint: If you want to see a list of allocated tensors when OOM happens, add report_tensor_allocations_upon_oom to RunOptions for current allocation info. This isn't available when running in Eager mode.\n [Op:__inference_one_step_on_iterator_43977]",
     "output_type": "error",
     "traceback": [
      "\u001b[0;31m---------------------------------------------------------------------------\u001b[0m",
      "\u001b[0;31mResourceExhaustedError\u001b[0m                    Traceback (most recent call last)",
      "Cell \u001b[0;32mIn[7], line 2\u001b[0m\n\u001b[1;32m      1\u001b[0m \u001b[38;5;66;03m# tf.config.run_functions_eagerly(True)  # to debug the model\u001b[39;00m\n\u001b[0;32m----> 2\u001b[0m \u001b[43mmodel\u001b[49m\u001b[38;5;241;43m.\u001b[39;49m\u001b[43mfit\u001b[49m\u001b[43m(\u001b[49m\u001b[43mpoke_dataset\u001b[49m\u001b[43m,\u001b[49m\u001b[43m \u001b[49m\u001b[43mepochs\u001b[49m\u001b[38;5;241;43m=\u001b[39;49m\u001b[43mEPOCHS\u001b[49m\u001b[43m,\u001b[49m\u001b[43m \u001b[49m\u001b[43mcallbacks\u001b[49m\u001b[38;5;241;43m=\u001b[39;49m\u001b[43m[\u001b[49m\u001b[43mDiffusionCallback\u001b[49m\u001b[43m(\u001b[49m\u001b[43mmodel\u001b[49m\u001b[43m,\u001b[49m\u001b[43m \u001b[49m\u001b[38;5;241;43m20\u001b[39;49m\u001b[43m)\u001b[49m\u001b[43m]\u001b[49m\u001b[43m)\u001b[49m\n",
      "File \u001b[0;32m~/.local/lib/python3.11/site-packages/keras/src/utils/traceback_utils.py:122\u001b[0m, in \u001b[0;36mfilter_traceback.<locals>.error_handler\u001b[0;34m(*args, **kwargs)\u001b[0m\n\u001b[1;32m    119\u001b[0m     filtered_tb \u001b[38;5;241m=\u001b[39m _process_traceback_frames(e\u001b[38;5;241m.\u001b[39m__traceback__)\n\u001b[1;32m    120\u001b[0m     \u001b[38;5;66;03m# To get the full stack trace, call:\u001b[39;00m\n\u001b[1;32m    121\u001b[0m     \u001b[38;5;66;03m# `keras.config.disable_traceback_filtering()`\u001b[39;00m\n\u001b[0;32m--> 122\u001b[0m     \u001b[38;5;28;01mraise\u001b[39;00m e\u001b[38;5;241m.\u001b[39mwith_traceback(filtered_tb) \u001b[38;5;28;01mfrom\u001b[39;00m \u001b[38;5;28;01mNone\u001b[39;00m\n\u001b[1;32m    123\u001b[0m \u001b[38;5;28;01mfinally\u001b[39;00m:\n\u001b[1;32m    124\u001b[0m     \u001b[38;5;28;01mdel\u001b[39;00m filtered_tb\n",
      "File \u001b[0;32m/usr/local/lib/python3.11/dist-packages/tensorflow/python/eager/execute.py:53\u001b[0m, in \u001b[0;36mquick_execute\u001b[0;34m(op_name, num_outputs, inputs, attrs, ctx, name)\u001b[0m\n\u001b[1;32m     51\u001b[0m \u001b[38;5;28;01mtry\u001b[39;00m:\n\u001b[1;32m     52\u001b[0m   ctx\u001b[38;5;241m.\u001b[39mensure_initialized()\n\u001b[0;32m---> 53\u001b[0m   tensors \u001b[38;5;241m=\u001b[39m pywrap_tfe\u001b[38;5;241m.\u001b[39mTFE_Py_Execute(ctx\u001b[38;5;241m.\u001b[39m_handle, device_name, op_name,\n\u001b[1;32m     54\u001b[0m                                       inputs, attrs, num_outputs)\n\u001b[1;32m     55\u001b[0m \u001b[38;5;28;01mexcept\u001b[39;00m core\u001b[38;5;241m.\u001b[39m_NotOkStatusException \u001b[38;5;28;01mas\u001b[39;00m e:\n\u001b[1;32m     56\u001b[0m   \u001b[38;5;28;01mif\u001b[39;00m name \u001b[38;5;129;01mis\u001b[39;00m \u001b[38;5;129;01mnot\u001b[39;00m \u001b[38;5;28;01mNone\u001b[39;00m:\n",
      "\u001b[0;31mResourceExhaustedError\u001b[0m: Graph execution error:\n\nDetected at node StatefulPartitionedCall defined at (most recent call last):\n  File \"<frozen runpy>\", line 198, in _run_module_as_main\n\n  File \"<frozen runpy>\", line 88, in _run_code\n\n  File \"/home/pqlza/.local/lib/python3.11/site-packages/ipykernel_launcher.py\", line 18, in <module>\n\n  File \"/home/pqlza/.local/lib/python3.11/site-packages/traitlets/config/application.py\", line 1075, in launch_instance\n\n  File \"/home/pqlza/.local/lib/python3.11/site-packages/ipykernel/kernelapp.py\", line 739, in start\n\n  File \"/home/pqlza/.local/lib/python3.11/site-packages/tornado/platform/asyncio.py\", line 205, in start\n\n  File \"/usr/lib/python3.11/asyncio/base_events.py\", line 604, in run_forever\n\n  File \"/usr/lib/python3.11/asyncio/base_events.py\", line 1909, in _run_once\n\n  File \"/usr/lib/python3.11/asyncio/events.py\", line 80, in _run\n\n  File \"/home/pqlza/.local/lib/python3.11/site-packages/ipykernel/kernelbase.py\", line 545, in dispatch_queue\n\n  File \"/home/pqlza/.local/lib/python3.11/site-packages/ipykernel/kernelbase.py\", line 534, in process_one\n\n  File \"/home/pqlza/.local/lib/python3.11/site-packages/ipykernel/kernelbase.py\", line 437, in dispatch_shell\n\n  File \"/home/pqlza/.local/lib/python3.11/site-packages/ipykernel/ipkernel.py\", line 362, in execute_request\n\n  File \"/home/pqlza/.local/lib/python3.11/site-packages/ipykernel/kernelbase.py\", line 778, in execute_request\n\n  File \"/home/pqlza/.local/lib/python3.11/site-packages/ipykernel/ipkernel.py\", line 449, in do_execute\n\n  File \"/home/pqlza/.local/lib/python3.11/site-packages/ipykernel/zmqshell.py\", line 549, in run_cell\n\n  File \"/home/pqlza/.local/lib/python3.11/site-packages/IPython/core/interactiveshell.py\", line 3075, in run_cell\n\n  File \"/home/pqlza/.local/lib/python3.11/site-packages/IPython/core/interactiveshell.py\", line 3130, in _run_cell\n\n  File \"/home/pqlza/.local/lib/python3.11/site-packages/IPython/core/async_helpers.py\", line 129, in _pseudo_sync_runner\n\n  File \"/home/pqlza/.local/lib/python3.11/site-packages/IPython/core/interactiveshell.py\", line 3334, in run_cell_async\n\n  File \"/home/pqlza/.local/lib/python3.11/site-packages/IPython/core/interactiveshell.py\", line 3517, in run_ast_nodes\n\n  File \"/home/pqlza/.local/lib/python3.11/site-packages/IPython/core/interactiveshell.py\", line 3577, in run_code\n\n  File \"/tmp/ipykernel_71121/4058675635.py\", line 2, in <module>\n\n  File \"/home/pqlza/.local/lib/python3.11/site-packages/keras/src/utils/traceback_utils.py\", line 117, in error_handler\n\n  File \"/home/pqlza/.local/lib/python3.11/site-packages/keras/src/backend/tensorflow/trainer.py\", line 325, in fit\n\n  File \"/home/pqlza/.local/lib/python3.11/site-packages/keras/src/backend/tensorflow/trainer.py\", line 118, in one_step_on_iterator\n\nOut of memory while trying to allocate 561187768 bytes.\nBufferAssignment OOM Debugging.\nBufferAssignment stats:\n             parameter allocation:  920.49MiB\n              constant allocation:    11.9KiB\n        maybe_live_out allocation:  920.11MiB\n     preallocated temp allocation:  535.19MiB\n  preallocated temp fragmentation:    1.12MiB (0.21%)\n                 total allocation:    1.42GiB\n              total fragmentation:  165.05MiB (11.34%)\nPeak buffers:\n\tBuffer 1:\n\t\tSize: 72.00MiB\n\t\tOperator: op_name=\"XLA_Args\"\n\t\tXLA Label: fusion\n\t\tShape: f32[2048,1024,3,3]\n\t\t==========================\n\n\tBuffer 2:\n\t\tSize: 72.00MiB\n\t\tOperator: op_name=\"XLA_Args\"\n\t\tXLA Label: fusion\n\t\tShape: f32[2048,1024,3,3]\n\t\t==========================\n\n\tBuffer 3:\n\t\tSize: 72.00MiB\n\t\tOperator: op_name=\"XLA_Args\"\n\t\tEntry Parameter Subshape: f32[3,3,2048,1024]\n\t\t==========================\n\n\tBuffer 4:\n\t\tSize: 72.00MiB\n\t\tOperator: op_name=\"XLA_Args\"\n\t\tEntry Parameter Subshape: f32[3,3,2048,1024]\n\t\t==========================\n\n\tBuffer 5:\n\t\tSize: 72.00MiB\n\t\tOperator: op_name=\"XLA_Args\"\n\t\tEntry Parameter Subshape: f32[3,3,2048,1024]\n\t\t==========================\n\n\tBuffer 6:\n\t\tSize: 72.00MiB\n\t\tOperator: op_name=\"XLA_Args\"\n\t\tEntry Parameter Subshape: f32[3,3,2048,1024]\n\t\t==========================\n\n\tBuffer 7:\n\t\tSize: 72.00MiB\n\t\tOperator: op_name=\"XLA_Args\"\n\t\tEntry Parameter Subshape: f32[3,3,2048,1024]\n\t\t==========================\n\n\tBuffer 8:\n\t\tSize: 72.00MiB\n\t\tOperator: op_name=\"XLA_Args\"\n\t\tEntry Parameter Subshape: f32[3,3,2048,1024]\n\t\t==========================\n\n\tBuffer 9:\n\t\tSize: 27.00MiB\n\t\tOperator: op_name=\"XLA_Args\"\n\t\tXLA Label: fusion\n\t\tShape: f32[512,1536,3,3]\n\t\t==========================\n\n\tBuffer 10:\n\t\tSize: 27.00MiB\n\t\tOperator: op_name=\"XLA_Args\"\n\t\tXLA Label: fusion\n\t\tShape: f32[512,1536,3,3]\n\t\t==========================\n\n\tBuffer 11:\n\t\tSize: 27.00MiB\n\t\tOperator: op_name=\"XLA_Retvals\"\n\t\tXLA Label: fusion\n\t\tShape: f32[3,3,1536,512]\n\t\t==========================\n\n\tBuffer 12:\n\t\tSize: 27.00MiB\n\t\tOperator: op_name=\"XLA_Retvals\"\n\t\tXLA Label: fusion\n\t\tShape: f32[3,3,1536,512]\n\t\t==========================\n\n\tBuffer 13:\n\t\tSize: 27.00MiB\n\t\tOperator: op_name=\"XLA_Retvals\"\n\t\tXLA Label: fusion\n\t\tShape: f32[3,3,1536,512]\n\t\t==========================\n\n\tBuffer 14:\n\t\tSize: 27.00MiB\n\t\tOperator: op_name=\"XLA_Retvals\"\n\t\tXLA Label: fusion\n\t\tShape: f32[3,3,1536,512]\n\t\t==========================\n\n\tBuffer 15:\n\t\tSize: 27.00MiB\n\t\tOperator: op_name=\"XLA_Args\"\n\t\tEntry Parameter Subshape: f32[3,3,1536,512]\n\t\t==========================\n\n\n\t [[{{node StatefulPartitionedCall}}]]\nHint: If you want to see a list of allocated tensors when OOM happens, add report_tensor_allocations_upon_oom to RunOptions for current allocation info. This isn't available when running in Eager mode.\n [Op:__inference_one_step_on_iterator_43977]"
     ]
    }
   ],
   "source": [
    "# tf.config.run_functions_eagerly(True)  # to debug the model\n",
    "model.fit(poke_dataset, epochs=EPOCHS, callbacks=[DiffusionCallback(model, 20)])"
   ]
  },
  {
   "cell_type": "code",
   "execution_count": null,
   "metadata": {},
   "outputs": [],
   "source": [
    "# tf.config.run_functions_eagerly(True)  # to debug the model\n",
    "model.fit(poke_dataset, epochs=500, callbacks=[DiffusionCallback(model, 20)])"
   ]
  },
  {
   "cell_type": "code",
   "execution_count": null,
   "metadata": {},
   "outputs": [],
   "source": [
    "model.plot_samples(6)\n",
    "\n",
    "model.plot_samples(3, \"Fire\")\n",
    "model.plot_samples(3, \"Grass\")\n",
    "model.plot_samples(3, \"Water\")"
   ]
  },
  {
   "cell_type": "code",
   "execution_count": null,
   "metadata": {},
   "outputs": [],
   "source": [
    "model.plot_samples(6)\n",
    "model.plot_samples(6)"
   ]
  },
  {
   "cell_type": "markdown",
   "metadata": {},
   "source": [
    "## 2.2. Save Model\n",
    "\n",
    "Finalmente, se guardan los resultados finales del modelo de difusión en un fichero `.h5` para su posterior uso y visualización. TODO: MIRAR OTROS FORMATOS DE GUARDADO\n",
    "\n",
    "TODO: INVESTIGAR OTROS FORMATOS DE GUARDADO (HDF5, PICKLE, ETC.)"
   ]
  },
  {
   "cell_type": "code",
   "execution_count": null,
   "metadata": {},
   "outputs": [],
   "source": [
    "# Save the model function\n",
    "# =====================================================================\n",
    "def save_model(model: tf.keras.models.Model, model_name: str) -> None:\n",
    "    \"\"\"Saves the model\n",
    "\n",
    "    :param model: The model to save\n",
    "    :param model_name: The name of the model\n",
    "    :return: None\n",
    "    \"\"\"\n",
    "\n",
    "    # Save the model\n",
    "    model_dir = \"../../models/\"\n",
    "    os.makedirs(model_dir, exist_ok=True)\n",
    "    if not os.path.exists(os.path.join(model_dir, f\"{model_name}.h5\")):\n",
    "        model.save(os.path.join(model_dir, f\"{model_name}.keras\"))\n",
    "        print(f\"Model {model_name}, saved successfully!\")\n",
    "    else:\n",
    "        print(f\"Model {model_name}, already exists!\")"
   ]
  },
  {
   "cell_type": "code",
   "execution_count": null,
   "metadata": {},
   "outputs": [],
   "source": [
    "# Save the model\n",
    "SCHEDULER = \"linear\"\n",
    "EPOCHS = 600\n",
    "model_name = f\"diffusion_{IMG_SIZE}_{BATCH_SIZE}_{EPOCHS}_{T}_{SCHEDULER}_ddpm\"\n",
    "\n",
    "save_model(model, model_name)"
   ]
  },
  {
   "cell_type": "code",
   "execution_count": null,
   "metadata": {},
   "outputs": [],
   "source": [
    "# load the model\n",
    "# =====================================================================\n",
    "model_loaded = tf.keras.models.load_model(f\"../../models/{model_name}.keras\")\n",
    "\n",
    "model_load.plot_samples(6)"
   ]
  },
  {
   "cell_type": "markdown",
   "metadata": {},
   "source": [
    "[BACK TO TOP](#top)"
   ]
  }
 ],
 "metadata": {
  "kernelspec": {
   "display_name": "diffusion_env",
   "language": "python",
   "name": "python3"
  },
  "language_info": {
   "codemirror_mode": {
    "name": "ipython",
    "version": 3
   },
   "file_extension": ".py",
   "mimetype": "text/x-python",
   "name": "python",
   "nbconvert_exporter": "python",
   "pygments_lexer": "ipython3",
   "version": "3.11.0rc1"
  }
 },
 "nbformat": 4,
 "nbformat_minor": 2
}
